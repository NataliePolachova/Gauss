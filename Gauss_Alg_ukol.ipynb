{
 "cells": [
  {
   "cell_type": "code",
   "execution_count": 9,
   "metadata": {},
   "outputs": [
    {
     "data": {
      "image/png": "[encoded data removed]",
      "text/plain": [
       "<Figure size 1000x1000 with 1 Axes>"
      ]
     },
     "metadata": {},
     "output_type": "display_data"
    },
    {
     "data": {
      "text/plain": [
       "{'Contour 1': [(42, 92), (227, 92), (42, 144), (227, 144)],\n",
       " 'Contour 2': [(42, 30),\n",
       "  (398, 30),\n",
       "  (42, 82),\n",
       "  (335, 83),\n",
       "  (337, 144),\n",
       "  (398, 144)]}"
      ]
     },
     "execution_count": 9,
     "metadata": {},
     "output_type": "execute_result"
    }
   ],
   "source": [
    "import cv2\n",
    "import numpy as np\n",
    "import matplotlib.pyplot as plt\n",
    "\n",
    "image = cv2.imread(\"image.png\", cv2.IMREAD_GRAYSCALE)\n",
    "\n",
    "# Binary thresholding to detect dark objects\n",
    "_, thresh = cv2.threshold(image, 100, 255, cv2.THRESH_BINARY_INV)  # Set the threshold value\n",
    "thresh_corrected = cv2.threshold(thresh, 127, 255, cv2.THRESH_BINARY)[1].astype(np.uint8)\n",
    "\n",
    "# Find contours and calculate maximum area\n",
    "contours, _ = cv2.findContours(thresh_corrected, cv2.RETR_EXTERNAL, cv2.CHAIN_APPROX_SIMPLE)\n",
    "max_area = max(cv2.contourArea(cnt) for cnt in contours)\n",
    "\n",
    "# Define the minimum area as a percentage of the maximum area\n",
    "min_area_ratio = 0.1\n",
    "min_area = max_area * min_area_ratio\n",
    "\n",
    "# Filter contours based on the minimum area\n",
    "large_contours = [cnt for cnt in contours if cv2.contourArea(cnt) > min_area]\n",
    "filtered_image = np.zeros_like(image)\n",
    "cv2.drawContours(filtered_image, large_contours, -1, (255, 255, 255), thickness=cv2.FILLED)\n",
    "\n",
    "# Morph. opening to remove thin lines/small protrusions\n",
    "kernel = cv2.getStructuringElement(cv2.MORPH_RECT, (5, 5))\n",
    "opened_image = cv2.morphologyEx(filtered_image, cv2.MORPH_OPEN, kernel)\n",
    "\n",
    "# Find contours on the processed image\n",
    "opened_contours, _ = cv2.findContours(opened_image, cv2.RETR_EXTERNAL, cv2.CHAIN_APPROX_SIMPLE)\n",
    "opened_contour_image = cv2.cvtColor(opened_image, cv2.COLOR_GRAY2BGR)\n",
    "cv2.drawContours(opened_contour_image, opened_contours, -1, (0, 255, 0), thickness=2)\n",
    "\n",
    "#Harris Corner Detector\n",
    "dst = cv2.cornerHarris(opened_image, blockSize=2, ksize=3, k=0.04)\n",
    "dst = cv2.dilate(dst, None)\n",
    "threshold = 0.01 * dst.max()\n",
    "corner_points = np.where(dst > threshold)\n",
    "\n",
    "# Dictionary to store corner points for each contour\n",
    "contour_points = {f\"Contour {i + 1}\": [] for i in range(len(opened_contours))}\n",
    "\n",
    "# Loop through each corner point and check if it lies on any contour\n",
    "for y, x in zip(*corner_points):\n",
    "    for i, contour in enumerate(opened_contours):\n",
    "        if cv2.pointPolygonTest(contour, (int(x), int(y)), False) >= 0:  # Point lies on the contour\n",
    "            contour_points[f\"Contour {i + 1}\"].append((int(x), int(y)))\n",
    "            cv2.drawMarker(opened_contour_image, (int(x), int(y)), color=(0, 0, 255), markerType=cv2.MARKER_CROSS, markerSize=10, thickness=1)\n",
    "            break\n",
    "\n",
    "# Set the minimum distance between detected points (Harris detected many points around one corner)\n",
    "min_distance = 10\n",
    "\n",
    "# Initialize the dictionary to store filtered corner coordinates\n",
    "contour_points_filtered = {f\"Contour {i + 1}\": [] for i in range(len(opened_contours))}\n",
    "\n",
    "# Filter the corners by minimum distance for each contour\n",
    "for i, (contour_name, points) in enumerate(contour_points.items()):\n",
    "    filtered_corners = []\n",
    "    for point in points:\n",
    "        if all(np.linalg.norm(np.array(point) - np.array(fc)) > min_distance for fc in filtered_corners):\n",
    "            filtered_corners.append(point)\n",
    "    contour_points_filtered[contour_name] = filtered_corners\n",
    "\n",
    "filtered_contour_image = cv2.cvtColor(opened_image, cv2.COLOR_GRAY2BGR)\n",
    "cv2.drawContours(filtered_contour_image, opened_contours, -1, (0, 255, 0), thickness=2)\n",
    "\n",
    "for contour_name, points in contour_points_filtered.items():\n",
    "    for x, y in points:\n",
    "        cv2.drawMarker(filtered_contour_image, (x, y), color=(0, 0, 255), markerType=cv2.MARKER_CROSS, markerSize=10, thickness=1)\n",
    "\n",
    "plt.figure(figsize=(10, 10))\n",
    "plt.imshow(cv2.cvtColor(filtered_contour_image, cv2.COLOR_BGR2RGB))\n",
    "plt.axis('off')\n",
    "plt.show()\n",
    "\n",
    "contour_points_filtered\n"
   ]
  }
 ],
 "metadata": {
  "kernelspec": {
   "display_name": "Python 3",
   "language": "python",
   "name": "python3"
  },
  "language_info": {
   "codemirror_mode": {
    "name": "ipython",
    "version": 3
   },
   "file_extension": ".py",
   "mimetype": "text/x-python",
   "name": "python",
   "nbconvert_exporter": "python",
   "pygments_lexer": "ipython3",
   "version": "3.8.10"
  }
 },
 "nbformat": 4,
 "nbformat_minor": 2
}
